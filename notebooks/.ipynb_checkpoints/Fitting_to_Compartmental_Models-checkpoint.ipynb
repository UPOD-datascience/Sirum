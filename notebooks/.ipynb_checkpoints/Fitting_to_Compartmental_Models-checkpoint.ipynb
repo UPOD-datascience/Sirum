{
 "cells": [
  {
   "cell_type": "code",
   "execution_count": 1,
   "metadata": {},
   "outputs": [],
   "source": [
    "import pandas as pd\n",
    "import numpy as np\n",
    "import matplotlib.pyplot as plt\n",
    "%matplotlib inline \n",
    "# %matplotlib widget\n"
   ]
  },
  {
   "cell_type": "markdown",
   "metadata": {},
   "source": [
    "# SIR Model\n",
    "\n",
    "A simple mathematical description of the spread of a disease in a population is the so-called SIR model, which divides the (fixed) population of N individuals into three \"compartments\" which may vary as a function of time, t:\n",
    "\n",
    "S(t): are those susceptible but not yet infected with the disease (All - Confirmed).\n",
    "\n",
    "I(t): is the number of infectious individuals (Confirmed - Recovered - Deaths).\n",
    "\n",
    "R(t): are those individuals who have recovered from the disease and now have immunity to it (Recovered + Deaths [Maybe]).\n",
    "\n",
    "\\begin{align*}\n",
    "{\\dot S}(t) = \\frac{\\mathrm{d}S}{\\mathrm{d}t} &= -\\frac{\\beta S I}{N},\\\\\n",
    "{\\dot I}(t) = \\frac{\\mathrm{d}I}{\\mathrm{d}t} &= \\frac{\\beta S I}{N} - \\gamma I,\\\\\n",
    "{\\dot R}(t) = \\frac{\\mathrm{d}R}{\\mathrm{d}t} &= \\gamma I.\n",
    "\\end{align*}\n",
    "\n",
    "The SIR model describes the change in the population of each of these compartments in terms of two parameters, $\\beta $ and $\\gamma $.  $\\beta $ describes the effective contact rate of the disease: an infected individual comes into contact with  $\\beta N$ other individuals per unit time (of which the fraction that are susceptible to contracting the disease is $S/N$). $\\gamma $ is the mean recovery rate: that is, $1/\\gamma$ is the mean period of time during which an infected individual can pass it on.\n",
    "\n",
    "https://scipython.com/book/chapter-8-scipy/additional-examples/the-sir-epidemic-model/"
   ]
  },
  {
   "cell_type": "code",
   "execution_count": 3,
   "metadata": {},
   "outputs": [
    {
     "ename": "TypeError",
     "evalue": "'NoneType' object is not iterable",
     "output_type": "error",
     "traceback": [
      "\u001b[0;31m---------------------------------------------------------------------------\u001b[0m",
      "\u001b[0;31mTypeError\u001b[0m                                 Traceback (most recent call last)",
      "\u001b[0;32m<ipython-input-3-5627a33f6b5f>\u001b[0m in \u001b[0;36m<module>\u001b[0;34m\u001b[0m\n\u001b[1;32m     23\u001b[0m \u001b[0mbeta_changepoints\u001b[0m \u001b[0;34m=\u001b[0m \u001b[0;32mNone\u001b[0m\u001b[0;34m\u001b[0m\u001b[0;34m\u001b[0m\u001b[0m\n\u001b[1;32m     24\u001b[0m \u001b[0mbeta\u001b[0m \u001b[0;34m=\u001b[0m \u001b[0mnp\u001b[0m\u001b[0;34m.\u001b[0m\u001b[0mfull\u001b[0m\u001b[0;34m(\u001b[0m\u001b[0;34m(\u001b[0m\u001b[0mmax_days\u001b[0m\u001b[0;34m+\u001b[0m\u001b[0;36m1\u001b[0m\u001b[0;34m,\u001b[0m\u001b[0;34m)\u001b[0m\u001b[0;34m,\u001b[0m \u001b[0mbeta0\u001b[0m\u001b[0;34m)\u001b[0m\u001b[0;34m\u001b[0m\u001b[0;34m\u001b[0m\u001b[0m\n\u001b[0;32m---> 25\u001b[0;31m \u001b[0;32mfor\u001b[0m \u001b[0m_cp\u001b[0m \u001b[0;32min\u001b[0m \u001b[0mbeta_changepoints\u001b[0m\u001b[0;34m:\u001b[0m\u001b[0;34m\u001b[0m\u001b[0;34m\u001b[0m\u001b[0m\n\u001b[0m\u001b[1;32m     26\u001b[0m     \u001b[0;32mif\u001b[0m \u001b[0misinstance\u001b[0m\u001b[0;34m(\u001b[0m\u001b[0m_cp\u001b[0m\u001b[0;34m[\u001b[0m\u001b[0;36m1\u001b[0m\u001b[0;34m]\u001b[0m\u001b[0;34m,\u001b[0m \u001b[0mfloat\u001b[0m\u001b[0;34m)\u001b[0m\u001b[0;34m:\u001b[0m\u001b[0;34m\u001b[0m\u001b[0;34m\u001b[0m\u001b[0m\n\u001b[1;32m     27\u001b[0m         \u001b[0mbeta\u001b[0m\u001b[0;34m[\u001b[0m\u001b[0m_cp\u001b[0m\u001b[0;34m[\u001b[0m\u001b[0;36m0\u001b[0m\u001b[0;34m]\u001b[0m\u001b[0;34m:\u001b[0m\u001b[0;34m]\u001b[0m \u001b[0;34m=\u001b[0m \u001b[0m_cp\u001b[0m\u001b[0;34m[\u001b[0m\u001b[0;36m1\u001b[0m\u001b[0;34m]\u001b[0m\u001b[0;34m*\u001b[0m\u001b[0mbeta\u001b[0m\u001b[0;34m[\u001b[0m\u001b[0m_cp\u001b[0m\u001b[0;34m[\u001b[0m\u001b[0;36m0\u001b[0m\u001b[0;34m]\u001b[0m\u001b[0;34m-\u001b[0m\u001b[0;36m1\u001b[0m\u001b[0;34m]\u001b[0m\u001b[0;34m\u001b[0m\u001b[0;34m\u001b[0m\u001b[0m\n",
      "\u001b[0;31mTypeError\u001b[0m: 'NoneType' object is not iterable"
     ]
    }
   ],
   "source": [
    "# Total population, N.\n",
    "N = 15000000\n",
    "max_days = 90\n",
    "beta0 = .9\n",
    "# Initial number of infected and recovered individuals, I0 and R0.\n",
    "I0, R0 = 100, 0\n",
    "# Everyone else, S0, is susceptible to infection initially.\n",
    "S0 = N - I0 - R0\n",
    "# Initial conditions vector\n",
    "S, I, R = [S0], [I0], [R0]\n",
    "# Contact rate, beta, and mean recovery rate, gamma, (in 1/days).\n",
    "   \n",
    "\n",
    "gamma = 1./10 \n",
    "# A grid of time points (in days)\n",
    "time = np.linspace(0, max_days, max_days+1)\n",
    "\n",
    "#### varying beta\n",
    "beta_changepoints = [(10, 0.7),\n",
    "                     (16, lambda x: np.maximum(0.5 - 0.02*(x-x[0]), 0.2)),\n",
    "                     (40, lambda x: np.minimum(0.5 + 0.02*(x-x[0]), beta0)) ] \n",
    "\n",
    "beta_changepoints = None \n",
    "\n",
    "beta = np.full((max_days+1,), beta0)\n",
    "if beta_changepoints is not None:\n",
    "    for _cp in beta_changepoints:\n",
    "        if isinstance(_cp[1], float):\n",
    "            beta[_cp[0]:] = _cp[1]*beta[_cp[0]-1]\n",
    "        elif isinstance(_cp[1], object):\n",
    "            beta[_cp[0]:] = _cp[1](time[_cp[0]:])\n",
    "        \n",
    "###################\n",
    "\n",
    "# Simulation of differential equaiton using Numerical differentiation\n",
    "# dx/dt = (x[t] - x[t-1])/dt\n",
    "# E.g. S[t] = S[t-1] + dt *(B*S*I/N)  dt = 1 # In our simulation dt is 1-day\n",
    "for idx, t in enumerate(time):\n",
    "    term1 = (beta[idx]/N) * S[-1] * I[-1]\n",
    "    term2 = gamma * I[-1]\n",
    "    S.append(S[-1] - term1)\n",
    "    I.append(I[-1] + term1 - term2)\n",
    "    R.append(R[-1] + term2)\n",
    "\n",
    "# Plot the data on three separate curves for S(t), I(t) and R(t)\n",
    "fig, ax = plt.subplots(figsize = (8,6))\n",
    "ax.plot(S, label='Susceptible');\n",
    "ax.plot(I, label='Infected');\n",
    "ax.plot(R, label='Recovered with immunity');\n",
    "ax.set_xlabel('Time (days)');\n",
    "ax.set_ylabel('Population Number');\n",
    "ax.legend(loc='upper right');\n"
   ]
  },
  {
   "cell_type": "markdown",
   "metadata": {},
   "source": [
    "# Get Real Data"
   ]
  },
  {
   "cell_type": "code",
   "execution_count": null,
   "metadata": {},
   "outputs": [],
   "source": []
  }
 ],
 "metadata": {
  "kernelspec": {
   "display_name": "Python 3",
   "language": "python",
   "name": "python3"
  },
  "language_info": {
   "codemirror_mode": {
    "name": "ipython",
    "version": 3
   },
   "file_extension": ".py",
   "mimetype": "text/x-python",
   "name": "python",
   "nbconvert_exporter": "python",
   "pygments_lexer": "ipython3",
   "version": "3.6.9"
  }
 },
 "nbformat": 4,
 "nbformat_minor": 4
}
